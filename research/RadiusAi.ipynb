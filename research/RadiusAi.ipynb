{
  "nbformat": 4,
  "nbformat_minor": 0,
  "metadata": {
    "colab": {
      "private_outputs": true,
      "provenance": []
    },
    "kernelspec": {
      "name": "python3",
      "display_name": "Python 3"
    },
    "language_info": {
      "name": "python"
    }
  },
  "cells": [
    {
      "cell_type": "code",
      "execution_count": null,
      "metadata": {
        "id": "N_lfgDe0z34X"
      },
      "outputs": [],
      "source": [
        "!pip install torchreid"
      ]
    },
    {
      "cell_type": "code",
      "source": [
        "import torchreid\n",
        "import torch\n",
        "import os\n",
        "import cv2\n",
        "import matplotlib.pyplot as plt\n",
        "from google.colab.patches import cv2_imshow\n",
        "import numpy as np"
      ],
      "metadata": {
        "id": "su7Mjh742lbB"
      },
      "execution_count": null,
      "outputs": []
    },
    {
      "cell_type": "code",
      "source": [
        "# os.listdir('/content/drive/MyDrive/Resume/RadiusAi/')\n",
        "\n",
        "# !mkdir /content/drive/MyDrive/Resume/RadiusAi/data\n",
        "\n",
        "# !unzip '/content/drive/MyDrive/Resume/RadiusAi/dataset.zip' -d '/content/drive/MyDrive/Resume/RadiusAi/data'"
      ],
      "metadata": {
        "id": "oxZrNm0r45cV"
      },
      "execution_count": null,
      "outputs": []
    },
    {
      "cell_type": "code",
      "source": [
        "device = torch.device('cuda')\n"
      ],
      "metadata": {
        "id": "L1WDmJ7L49xh"
      },
      "execution_count": null,
      "outputs": []
    },
    {
      "cell_type": "code",
      "source": [
        "extractor = torchreid.utils.FeatureExtractor('osnet_x0_25', \n",
        "                                             '/content/drive/MyDrive/Resume/RadiusAi/osnet_x0_25_msmt17.pt',\n",
        "                                             device = str(device))\n",
        "print(extractor.model)"
      ],
      "metadata": {
        "id": "3dUzr4rX26kK"
      },
      "execution_count": null,
      "outputs": []
    },
    {
      "cell_type": "code",
      "source": [
        "@torch.no_grad()\n",
        "def run_inference(img, i):\n",
        "  extractor(img)\n",
        "  x = features['teats'].cpu().numpy()\n",
        "  x = x[:,:,:,i].squeeze()\n",
        "  # x = x.mean(axis = 2)\n",
        "  img_resize = cv2.resize(x, (0, 0), fx=4, fy=1)\n",
        "\n",
        "\n",
        "  heatmap_normalized = cv2.normalize(img_resize, None, alpha=0, beta=255, norm_type=cv2.NORM_MINMAX, dtype=cv2.CV_8U)\n",
        "\n",
        "  heatmap_color = cv2.applyColorMap(heatmap_normalized, cv2.COLORMAP_JET)\n",
        "\n",
        "  # Set the weight for blending the heatmap and image\n",
        "  heatmap_weight = 0.6  # Adjust this value to control the intensity of the heatmap overlay\n",
        "\n",
        "  # Overlay the heatmap on the image\n",
        "  output = cv2.addWeighted(img, 1 - heatmap_weight, heatmap_color, heatmap_weight, 0)\n",
        "  \n",
        "  cv2_imshow(output)"
      ],
      "metadata": {
        "id": "Ggi8nq2z_ZLm"
      },
      "execution_count": null,
      "outputs": []
    },
    {
      "cell_type": "code",
      "source": [
        "imgs = os.listdir('/content/drive/MyDrive/Resume/RadiusAi/data/dataset')\n"
      ],
      "metadata": {
        "id": "p92vLvYU8Zof"
      },
      "execution_count": null,
      "outputs": []
    },
    {
      "cell_type": "code",
      "source": [
        "img1 = cv2.imread(os.path.join('/content/drive/MyDrive/Resume/RadiusAi/data/dataset',imgs[2]))\n",
        "run_inference(img1, 1)"
      ],
      "metadata": {
        "id": "kUGrO1g2___Z"
      },
      "execution_count": null,
      "outputs": []
    },
    {
      "cell_type": "code",
      "source": [
        "import torchvision.transforms as T\n",
        "from torch.nn import functional as F\n"
      ],
      "metadata": {
        "id": "HuWbqK4E2eNQ"
      },
      "execution_count": null,
      "outputs": []
    },
    {
      "cell_type": "code",
      "source": [
        "# Set the weight for blending the heatmap and image\n",
        "heatmap_weight = 0.4  # Adjust this value to control the intensity of the heatmap overlay\n",
        "\n",
        "# Overlay the heatmap on the image\n",
        "mix = cv2.addWeighted(img1, 1 - heatmap_weight, am, heatmap_weight, 0)"
      ],
      "metadata": {
        "id": "XeC0vW4-9ad6"
      },
      "execution_count": null,
      "outputs": []
    },
    {
      "cell_type": "code",
      "source": [
        "cv2_imshow(mix)"
      ],
      "metadata": {
        "id": "8sCy3rmO9E3x"
      },
      "execution_count": null,
      "outputs": []
    },
    {
      "cell_type": "code",
      "source": [
        "def pre_process(input):\n",
        "  image_size = (256, 128)\n",
        "  transforms = []\n",
        "  transforms += [T.Resize(image_size)]\n",
        "  transforms += [T.ToTensor()]\n",
        "  transforms += [T.Normalize(mean=[0.485, 0.456, 0.406], std=[0.229, 0.224, 0.225])]\n",
        "\n",
        "\n",
        "  preprocess = T.Compose(transforms)\n",
        "\n",
        "  to_pil = T.ToPILImage()\n",
        "\n",
        "  image = to_pil(input)\n",
        "  image = preprocess(image)\n",
        "  images = image.unsqueeze(0).to(device)\n",
        "\n",
        "  return images\n",
        "\n"
      ],
      "metadata": {
        "id": "w5q7cCOPyKHr"
      },
      "execution_count": null,
      "outputs": []
    },
    {
      "cell_type": "code",
      "source": [
        "def post_process_am(activation):\n",
        "  outputs = (activation**2).sum(1)\n",
        "  b, h, w = outputs.size()\n",
        "  outputs = outputs.view(b, h * w)\n",
        "  outputs = F.normalize(outputs, p=2, dim=1)\n",
        "  outputs = outputs.view(b, h, w)\n",
        "\n",
        "  am = outputs[0, ...].detach().numpy()\n",
        "  am = cv2.resize(am, (64, 128))\n",
        "  am = 255 * (am - np.min(am)) / (\n",
        "      np.max(am) - np.min(am) + 1e-12\n",
        "  )\n",
        "  am = np.uint8(np.floor(am))\n",
        "  am = cv2.applyColorMap(am, cv2.COLORMAP_JET)\n",
        "\n",
        "  return am"
      ],
      "metadata": {
        "id": "Welels8N_955"
      },
      "execution_count": null,
      "outputs": []
    },
    {
      "cell_type": "code",
      "source": [
        "def generate_visualization(img, am, intensity):\n",
        "\n",
        "  # Set the weight for blending the heatmap and image\n",
        "  heatmap_weight = intensity  # Adjust this value to control the intensity of the heatmap overlay\n",
        "\n",
        "  # Overlay the heatmap on the image\n",
        "  mix = cv2.addWeighted(img, 1 - heatmap_weight, am, heatmap_weight, 0)\n",
        "\n",
        "  return mix"
      ],
      "metadata": {
        "id": "i3YG1CF3AgdP"
      },
      "execution_count": null,
      "outputs": []
    },
    {
      "cell_type": "code",
      "source": [
        "def main(i):\n",
        "  img = cv2.imread(os.path.join('/content/drive/MyDrive/Resume/RadiusAi/data/dataset',imgs[i]))\n",
        "  activation = extractor.model(pre_process(img), True)\n",
        "  activation_map = post_process_am(activation)\n",
        "  output_img = generate_visualization(img, am, 0.6)\n",
        "  cv2_imshow(output_img)\n",
        "\n",
        "  return  "
      ],
      "metadata": {
        "id": "ETebUtIgBBFP"
      },
      "execution_count": null,
      "outputs": []
    },
    {
      "cell_type": "code",
      "source": [
        "main(200)"
      ],
      "metadata": {
        "id": "uN9wbiahCHyW"
      },
      "execution_count": null,
      "outputs": []
    },
    {
      "cell_type": "code",
      "source": [
        "img = cv2.imread(os.path.join('/content/drive/MyDrive/Resume/RadiusAi/data/dataset',imgs[200]))\n",
        "output = extractor(img)\n"
      ],
      "metadata": {
        "id": "z7I96_7yE1wk"
      },
      "execution_count": null,
      "outputs": []
    },
    {
      "cell_type": "code",
      "source": [
        "!rm /content/drive/MyDrive/Resume/RadiusAi/data/dataset/.DS_Store"
      ],
      "metadata": {
        "id": "mqLa_kKjU-NC"
      },
      "execution_count": null,
      "outputs": []
    },
    {
      "cell_type": "code",
      "source": [
        "lst = []\n",
        "outputs =np.ones((20,32,512), dtype=np.float32)\n",
        "for i in range(1, 20*32+1):\n",
        "  names = os.path.join('/content/drive/MyDrive/Resume/RadiusAi/data/dataset',imgs[i])\n",
        "  img = cv2.imread(names)\n",
        "  lst.append(img)\n",
        "\n",
        "  if (i)%32 == 0:\n",
        "    output = extractor(lst)\n",
        "    outputs[(i//32)-1, :, :] = output.numpy()\n",
        "    lst.clear()\n"
      ],
      "metadata": {
        "id": "OxGjIdj2HtXx"
      },
      "execution_count": null,
      "outputs": []
    },
    {
      "cell_type": "code",
      "source": [
        "x = outputs.reshape(20*32, 512)"
      ],
      "metadata": {
        "id": "t0QF_7UpJDtI"
      },
      "execution_count": null,
      "outputs": []
    },
    {
      "cell_type": "code",
      "source": [
        "from numpy.linalg import norm\n",
        "\n",
        "def cosine(A, B):\n",
        "  \n",
        "  # compute cosine similarity\n",
        "  cosine = np.dot(A,B)/(norm(A)*norm(B))\n",
        "  return cosine"
      ],
      "metadata": {
        "id": "kaEsItk8N8oL"
      },
      "execution_count": null,
      "outputs": []
    },
    {
      "cell_type": "code",
      "source": [
        "outer = []\n",
        "master = list(range(160))\n",
        "\n",
        "while(len(master)>0):\n",
        "  key = master.pop(0)\n",
        "  inner = [key]\n",
        "\n",
        "  for i in master:\n",
        "    if cosine(x[key, :], x[i, :]) > 0.75:\n",
        "      inner.append(i)\n",
        "      master.remove(i)\n",
        "  outer.append(inner)"
      ],
      "metadata": {
        "id": "yrbAVPd_NFll"
      },
      "execution_count": null,
      "outputs": []
    },
    {
      "cell_type": "code",
      "source": [
        "imgs[1:161][0]"
      ],
      "metadata": {
        "id": "Yd19ZjnuWBZd"
      },
      "execution_count": null,
      "outputs": []
    },
    {
      "cell_type": "code",
      "source": [
        "imgs[1:161][53]"
      ],
      "metadata": {
        "id": "K56IwvLPWpTE"
      },
      "execution_count": null,
      "outputs": []
    },
    {
      "cell_type": "code",
      "source": [
        "imgs[1:161][62]"
      ],
      "metadata": {
        "id": "mAJqc-g0XKSr"
      },
      "execution_count": null,
      "outputs": []
    },
    {
      "cell_type": "code",
      "source": [
        "for inner in outer:\n",
        "  # n = len(inner)\n",
        "\n",
        "  # tiles_x = n//2\n",
        "\n",
        "  if len(inner) > 4:\n",
        "    \n",
        "    for idx in inner:\n",
        "      cv2_imshow(cv2.imread(os.path.join('/content/drive/MyDrive/Resume/RadiusAi/data/dataset',imgs[1:161][idx])))\n",
        "\n",
        "    break\n"
      ],
      "metadata": {
        "id": "aYvKdeF5XMuU"
      },
      "execution_count": null,
      "outputs": []
    },
    {
      "cell_type": "code",
      "source": [
        "torchreid.utils.reidtools.visualize_ranked_results()"
      ],
      "metadata": {
        "id": "rDf3I0PAZA3i"
      },
      "execution_count": null,
      "outputs": []
    }
  ]
}